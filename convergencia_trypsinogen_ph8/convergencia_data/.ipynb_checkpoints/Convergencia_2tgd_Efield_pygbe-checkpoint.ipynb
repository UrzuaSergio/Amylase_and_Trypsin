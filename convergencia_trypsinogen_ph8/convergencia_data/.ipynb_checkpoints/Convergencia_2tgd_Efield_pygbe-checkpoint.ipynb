{
 "cells": [
  {
   "cell_type": "markdown",
   "metadata": {},
   "source": [
    "## Estudio de Convergencia: Calculos con PyGBe"
   ]
  },
  {
   "cell_type": "markdown",
   "metadata": {},
   "source": [
    "### Tripsina 2tgd sometida a un Campo Electrico Externo"
   ]
  },
  {
   "cell_type": "markdown",
   "metadata": {},
   "source": [
    "#### Parametros PyGBe\n",
    "\n",
    "\tUse GPU                 : 1\n",
    "\tP                       : 15\n",
    "\tthreshold               : 0.50\n",
    "\ttheta                   : 0.50\n",
    "\tNCRIT                   : 500\n",
    "\tCUDA block size         : 128\n",
    "\tGauss points per element: 7\n",
    "\tGauss points near singlr: 19\n",
    "\t1D Gauss points per side: 9\n",
    "\tGMRES tolerance         : 1e-08\n",
    "\tGMRES max iterations    : 1000\n",
    "\tGMRES restart iteration : 200"
   ]
  },
  {
   "cell_type": "markdown",
   "metadata": {},
   "source": [
    "### Nanoshaper: \n",
    "#### Efield = 1e-12 y _k_ = 0.125"
   ]
  },
  {
   "cell_type": "code",
   "execution_count": 9,
   "metadata": {},
   "outputs": [
    {
     "name": "stdout",
     "output_type": "stream",
     "text": [
      "Caso sistema aislado: \n",
      "densidad:  [  1.   2.   4.   8.  16.]\n",
      "Esolv:  [-1201.802244  -859.653951  -758.635411  -724.900908  -711.750534]\n",
      "r:  2.0\n",
      "p_solv:  1.3591210765\n",
      "E_solv_extrapolado: -703.349287761 Kcal/mol\n",
      "Esurf:  [ 45.373319  45.37135   45.370463  45.369966  45.369687]\n",
      "p_surf:  0.832980729746\n",
      "E_surf_extrapolado: 45.3693299312 Kcal/mol\n",
      "Caso sistema interactuando: \n",
      "densidad:  [  1.   2.   4.   8.  16.]\n",
      "Esolv:  [-1200.5363    -859.172477  -758.187006  -724.44304   -711.309592]\n",
      "p_solv:  1.36138382158\n",
      "E_solv_extrapolado: -702.929901926 Kcal/mol\n",
      "Esurf:  [ 46.040105  46.030576  46.005144  46.005976  46.005346]\n",
      "p_surf:  0.40123169976\n",
      "E_surf_extrapolado: 46.0033811485 Kcal/mol\n"
     ]
    }
   ],
   "source": [
    "from numpy import *\n",
    "from pylab import *\n",
    "import os\n",
    "\n",
    "file_data = open(\"convergencia_data_2tgd.txt\",\"r\")\n",
    "data = loadtxt(file_data)\n",
    "N = data[:5,0]  #N° Elementos\n",
    "Esolv_ais_EF0 = data[:5,2]\n",
    "Esurf_ais_EF0 = data[:5,3]\n",
    "Esolv_int_EF0 = data[:5,4]\n",
    "Esurf_int_EF0 = data[:5,5]\n",
    "#Esurf_ais_EF0 = array([14, 14.5629, 14.5854, 14.6069, 14.6129])\n",
    "\n",
    "print(\"Caso sistema aislado: \")\n",
    "print(\"densidad: \", N)\n",
    "print(\"Esolv: \",Esolv_ais_EF0)\n",
    "r= N[3]/N[2]\n",
    "print(\"r: \", r)\n",
    "p_solv = log((Esolv_ais_EF0[3] - Esolv_ais_EF0[2])/(Esolv_ais_EF0[4] - Esolv_ais_EF0[3]))/log(r)\n",
    "print(\"p_solv: \",p_solv)\n",
    "fsolvanalitico = Esolv_ais_EF0[4] + ((Esolv_ais_EF0[4] - Esolv_ais_EF0[3])/((r**p_solv) - 1))\n",
    "print('E_solv_extrapolado:',fsolvanalitico,'Kcal/mol')\n",
    "\n",
    "print(\"Esurf: \",Esurf_ais_EF0)\n",
    "p_surf = log((Esurf_ais_EF0[3] - Esurf_ais_EF0[2])/(Esurf_ais_EF0[4] - Esurf_ais_EF0[3]))/log(r)\n",
    "print(\"p_surf: \",p_surf)\n",
    "fsurfanalitico = Esurf_ais_EF0[4] + ((Esurf_ais_EF0[4] - Esurf_ais_EF0[3])/((r**p_surf) - 1))\n",
    "print('E_surf_extrapolado:',fsurfanalitico,'Kcal/mol')\n",
    "\n",
    "print(\"Caso sistema interactuando: \")\n",
    "print(\"densidad: \", N)\n",
    "print(\"Esolv: \",Esolv_int_EF0)\n",
    "p_solv_int = log((Esolv_int_EF0[3] - Esolv_int_EF0[2])/(Esolv_int_EF0[4] - Esolv_int_EF0[3]))/log(r)\n",
    "print(\"p_solv: \",p_solv_int)\n",
    "fsolvanalitico_int = Esolv_int_EF0[4] + ((Esolv_ais_EF0[4] - Esolv_ais_EF0[3])/((r**p_solv_int) - 1))\n",
    "print('E_solv_extrapolado:',fsolvanalitico_int,'Kcal/mol')\n",
    "\n",
    "print(\"Esurf: \",Esurf_int_EF0)\n",
    "p_surf_int = log((Esurf_int_EF0[3] - Esurf_int_EF0[2])/(Esurf_int_EF0[3] - Esurf_int_EF0[4]))/log(r)\n",
    "print(\"p_surf: \",p_surf_int)\n",
    "fsurfanalitico_int = Esurf_int_EF0[4] + ((Esurf_int_EF0[4] - Esurf_int_EF0[3])/((r**p_surf_int) - 1))\n",
    "print('E_surf_extrapolado:',fsurfanalitico_int,'Kcal/mol')"
   ]
  },
  {
   "cell_type": "code",
   "execution_count": 10,
   "metadata": {},
   "outputs": [
    {
     "name": "stdout",
     "output_type": "stream",
     "text": [
      "[ 70.86848098  22.22290773   7.86040794   3.0641419    1.19446289]\n",
      "[ 0.00879243  0.0044525   0.00249743  0.00140198  0.00078703]\n"
     ]
    }
   ],
   "source": [
    "#Calculo de Errores Relativos en Energia de Solvatacion y Superficial sistemas aislados:\n",
    "PyGerr_solv = abs(Esolv_ais_EF0-fsolvanalitico)/abs(fsolvanalitico)\n",
    "print(PyGerr_solv*100)\n",
    "asympt_solv = N[-1]*PyGerr_solv[-1]/N\n",
    "\n",
    "PyGerr_surf = abs(Esurf_ais_EF0-fsurfanalitico)/abs(fsurfanalitico)\n",
    "print(PyGerr_surf*100)\n",
    "asympt_surf = N[-1]*PyGerr_surf[-1]/N\n",
    "\n",
    "figure(figsize=(3,2), dpi=80)\n",
    "loglog(N[1:], PyGerr_solv[1:], c=\"k\", marker=\"o\", mfc=\"w\", ms=3, ls=\"\", lw=0.5, label=\"$E_{solv}$\")\n",
    "loglog(N[1:], asympt_solv[1:], c=\"k\", marker=\"\", mfc=\"w\", ms=3, ls=\":\", lw=0.8, label=None)\n",
    "loglog(N[1:], PyGerr_surf[1:], c=\"k\", marker=\"x\", mfc=\"w\", ms=3, ls=\"\", lw=0.5, label=\"$E_{surf}$\")\n",
    "loglog(N[1:], asympt_surf[1:], c=\"k\", marker=\"\", mfc=\"w\", ms=3, ls=\":\", lw=0.8, label=None)\n",
    "text(1.6e4, 6e-2,\"1/N\",fontsize=4,rotation=-8)\n",
    "text(2.5e1,3e-6,\"$E_{0}$ = 1e-12 e/$\\epsilon_{0}\\mathrm{\\AA}^{2}$\",fontsize = 5)\n",
    "ylabel('Error', fontsize=10)\n",
    "xlabel('Densidad',fontsize=10)\n",
    "subplots_adjust(left=0.25, bottom=0.25, right=0.96, top=0.96)\n",
    "axis([1e-0,100,0.000001, 1e0])\n",
    "legend(loc='best', fontsize = '6')\n",
    "savefig('Error_2tgd_EsolvEsurf_ais_Ef1e-12_k0.125_nanoshaper.pdf')\n",
    "clf()"
   ]
  },
  {
   "cell_type": "code",
   "execution_count": 11,
   "metadata": {},
   "outputs": [
    {
     "name": "stdout",
     "output_type": "stream",
     "text": [
      "[ 70.79033012  22.22733371   7.86096934   3.06049551   1.19210892]\n",
      "[ 0.07982859  0.0591149   0.003832    0.00564057  0.0042711 ]\n"
     ]
    }
   ],
   "source": [
    "#Calculo de Errores Relativos en Energia de Solvatacion y Superficial casos interactuando:\n",
    "PyGerr_solv = abs(Esolv_int_EF0-fsolvanalitico_int)/abs(fsolvanalitico_int)\n",
    "print(PyGerr_solv*100)\n",
    "asympt_solv = N[-1]*PyGerr_solv[-1]/N\n",
    "\n",
    "PyGerr_surf = abs(Esurf_int_EF0-fsurfanalitico_int)/abs(fsurfanalitico_int)\n",
    "print(PyGerr_surf*100)\n",
    "asympt_surf = N[-1]*PyGerr_surf[-1]/N\n",
    "\n",
    "figure(figsize=(3,2), dpi=80)\n",
    "loglog(N[1:], PyGerr_solv[1:], c=\"k\", marker=\"o\", mfc=\"w\", ms=3, ls=\"\", lw=0.5, label=\"$E_{solv}$\")\n",
    "loglog(N[1:], asympt_solv[1:], c=\"k\", marker=\"\", mfc=\"w\", ms=3, ls=\":\", lw=0.8, label=None)\n",
    "loglog(N[1:], PyGerr_surf[1:], c=\"k\", marker=\"x\", mfc=\"w\", ms=3, ls=\"\", lw=0.5, label=\"$E_{surf}$\")\n",
    "loglog(N[1:], asympt_surf[1:], c=\"k\", marker=\"\", mfc=\"w\", ms=3, ls=\":\", lw=0.8, label=None)\n",
    "text(1.6e4, 6e-2,\"1/N\",fontsize=4,rotation=-8)\n",
    "text(2.5e1,3e-6,\"$E_{0}$ = 1e-12 e/$\\epsilon_{0}\\mathrm{\\AA}^{2}$\",fontsize = 5)\n",
    "ylabel('Error', fontsize=10)\n",
    "xlabel('Densidad',fontsize=10)\n",
    "subplots_adjust(left=0.25, bottom=0.25, right=0.96, top=0.96)\n",
    "axis([1e-0,100,0.000001, 1e0])\n",
    "legend(loc='best', fontsize = '6')\n",
    "savefig('Error_2tgd_EsolvEsurf_int_Ef1e-12_k0.125_nanoshaper.pdf')\n",
    "clf()"
   ]
  },
  {
   "cell_type": "code",
   "execution_count": 23,
   "metadata": {},
   "outputs": [],
   "source": [
    "################################################################################################################################"
   ]
  },
  {
   "cell_type": "markdown",
   "metadata": {},
   "source": [
    "#### Efield = 2.3763e-4 y _k_ = 0.125"
   ]
  },
  {
   "cell_type": "code",
   "execution_count": 24,
   "metadata": {},
   "outputs": [
    {
     "name": "stdout",
     "output_type": "stream",
     "text": [
      "Caso sistema aislado: \n",
      "densidad:  [ 1.  2.  4.  8.]\n",
      "Esolv:  [-1268.8663    -974.664607  -873.944131  -840.328589]\n",
      "r:  2.0\n",
      "p_solv:  1.58315669014\n",
      "E_solv_extrapolado: -823.489221213 Kcal/mol\n",
      "Esurf:  [-145.019981 -145.047268 -145.047575 -145.068203]\n",
      "p_surf:  -6.07022148487\n",
      "E_surf_extrapolado: -145.047263362 Kcal/mol\n",
      "\n",
      "\n",
      "Caso sistema interactuando: \n",
      "densidad:  [ 1.  2.  4.  8.]\n",
      "Esolv:  [-1263.383121  -973.246687  -872.612051  -838.840286]\n",
      "p_solv:  1.57523744583\n",
      "E_solv_extrapolado: -821.861413155 Kcal/mol\n",
      "Esurf:  [-147.950945 -148.003994 -148.018911 -148.048856]\n",
      "p_surf:  -1.00535771203\n",
      "E_surf_extrapolado: -147.98918718 Kcal/mol\n"
     ]
    }
   ],
   "source": [
    "##tol = 1e-5; K = 4; P = 6\n",
    "N = data[5:,0]  #N° Elementos\n",
    "Esolv_ais_EF1 = data[5:,2]\n",
    "Esurf_ais_EF1 = data[5:,3]\n",
    "Esolv_int_EF1 = data[5:,4]\n",
    "Esurf_int_EF1 = data[5:,5]\n",
    "#Esurf_ais_EF0 = array([14, 14.5629, 14.5854, 14.6069, 14.6129])\n",
    "\n",
    "print(\"Caso sistema aislado: \")\n",
    "print(\"densidad: \", N)\n",
    "print(\"Esolv: \",Esolv_ais_EF1)\n",
    "r= N[3]/N[2]\n",
    "print(\"r: \", r)\n",
    "p_solv = log((Esolv_ais_EF1[2] - Esolv_ais_EF1[1])/(Esolv_ais_EF1[3] - Esolv_ais_EF1[2]))/log(r)\n",
    "print(\"p_solv: \",p_solv)\n",
    "fsolvanalitico = Esolv_ais_EF1[3] + ((Esolv_ais_EF1[3] - Esolv_ais_EF1[2])/((r**p_solv) - 1))\n",
    "print('E_solv_extrapolado:',fsolvanalitico,'Kcal/mol')\n",
    "\n",
    "print(\"Esurf: \",Esurf_ais_EF1)\n",
    "p_surf = log((Esurf_ais_EF1[2] - Esurf_ais_EF1[1])/(Esurf_ais_EF1[3] - Esurf_ais_EF1[2]))/log(r)\n",
    "print(\"p_surf: \",p_surf)\n",
    "fsurfanalitico = Esurf_ais_EF1[3] + ((Esurf_ais_EF1[3] - Esurf_ais_EF1[2])/((r**p_surf) - 1))\n",
    "print('E_surf_extrapolado:',fsurfanalitico,'Kcal/mol')\n",
    "\n",
    "print(\"\\n\")\n",
    "print(\"Caso sistema interactuando: \")\n",
    "print(\"densidad: \", N)\n",
    "print(\"Esolv: \",Esolv_int_EF1)\n",
    "p_solv_int = log((Esolv_int_EF1[2] - Esolv_int_EF1[1])/(Esolv_int_EF1[3] - Esolv_int_EF1[2]))/log(r)\n",
    "print(\"p_solv: \",p_solv_int)\n",
    "fsolvanalitico_int = Esolv_int_EF1[3] + ((Esolv_ais_EF1[3] - Esolv_ais_EF1[2])/((r**p_solv_int) - 1))\n",
    "print('E_solv_extrapolado:',fsolvanalitico_int,'Kcal/mol')\n",
    "\n",
    "print(\"Esurf: \",Esurf_int_EF1)\n",
    "p_surf_int = log((Esurf_int_EF1[2] - Esurf_int_EF1[1])/(Esurf_int_EF1[3] - Esurf_int_EF1[2]))/log(r)\n",
    "print(\"p_surf: \",p_surf_int)\n",
    "fsurfanalitico_int = Esurf_int_EF1[3] + ((Esurf_int_EF1[3] - Esurf_int_EF1[2])/((r**p_surf_int) - 1))\n",
    "print('E_surf_extrapolado:',fsurfanalitico_int,'Kcal/mol')"
   ]
  },
  {
   "cell_type": "code",
   "execution_count": 25,
   "metadata": {},
   "outputs": [
    {
     "name": "stdout",
     "output_type": "stream",
     "text": [
      "[ 54.08414188  18.35790705   6.12696663   2.04488017]\n",
      "[  1.88092911e-02   3.19758527e-06   2.14852733e-04   1.44364240e-02]\n"
     ]
    }
   ],
   "source": [
    "#Calculo de Errores Relativos en Energia de Solvatacion y Superficial sistemas aislados:\n",
    "PyGerr_solv = abs(Esolv_ais_EF1-fsolvanalitico)/abs(fsolvanalitico)\n",
    "print(PyGerr_solv*100)\n",
    "asympt_solv = N[-1]*PyGerr_solv[-1]/N\n",
    "\n",
    "PyGerr_surf = abs(Esurf_ais_EF1-fsurfanalitico)/abs(fsurfanalitico)\n",
    "print(PyGerr_surf*100)\n",
    "asympt_surf = N[-1]*PyGerr_surf[-1]/N\n",
    "\n",
    "figure(figsize=(3,2), dpi=80)\n",
    "loglog(N[:], PyGerr_solv[:], c=\"k\", marker=\"o\", mfc=\"w\", ms=3, ls=\"\", lw=0.5, label=\"$E_{solv}$\")\n",
    "loglog(N[:], asympt_solv[:], c=\"k\", marker=\"\", mfc=\"w\", ms=3, ls=\":\", lw=0.8, label=None)\n",
    "loglog(N[:], PyGerr_surf[:], c=\"k\", marker=\"x\", mfc=\"w\", ms=3, ls=\"\", lw=0.5, label=\"$E_{surf}$\")\n",
    "loglog(N[:], asympt_surf[:], c=\"k\", marker=\"\", mfc=\"w\", ms=3, ls=\":\", lw=0.8, label=None)\n",
    "text(1.6e4, 6e-2,\"1/N\",fontsize=4,rotation=-8)\n",
    "text(2.5e1,3e-6,\"$E_{0}$ = 2e-4 e/$\\epsilon_{0}\\mathrm{\\AA}^{2}$\",fontsize = 5)\n",
    "ylabel('Error', fontsize=10)\n",
    "xlabel('Densidad',fontsize=10)\n",
    "subplots_adjust(left=0.25, bottom=0.25, right=0.96, top=0.96)\n",
    "axis([1e-0,100,0.000001, 1e0])\n",
    "legend(loc='best', fontsize = '6')\n",
    "savefig('Error_2tgd_EsolvEsurf_ais_Ef2e-4_k0.125_nanoshaper.pdf')\n",
    "clf()"
   ]
  },
  {
   "cell_type": "code",
   "execution_count": 26,
   "metadata": {},
   "outputs": [
    {
     "name": "stdout",
     "output_type": "stream",
     "text": [
      "[ 53.72216055  18.41980551   6.17508464   2.06590461]\n",
      "[ 0.0258412   0.01000534  0.02008513  0.04031972]\n"
     ]
    }
   ],
   "source": [
    "#Calculo de Errores Relativos en Energia de Solvatacion y Superficial casos interactuando:\n",
    "PyGerr_solv = abs(Esolv_int_EF1-fsolvanalitico_int)/abs(fsolvanalitico_int)\n",
    "print(PyGerr_solv*100)\n",
    "asympt_solv = N[-1]*PyGerr_solv[-1]/N\n",
    "\n",
    "PyGerr_surf = abs(Esurf_int_EF1-fsurfanalitico_int)/abs(fsurfanalitico_int)\n",
    "print(PyGerr_surf*100)\n",
    "asympt_surf = N[-1]*PyGerr_surf[-1]/N\n",
    "\n",
    "figure(figsize=(3,2), dpi=80)\n",
    "loglog(N[:], PyGerr_solv[:], c=\"k\", marker=\"o\", mfc=\"w\", ms=3, ls=\"\", lw=0.5, label=\"$E_{solv}$\")\n",
    "loglog(N[:], asympt_solv[:], c=\"k\", marker=\"\", mfc=\"w\", ms=3, ls=\":\", lw=0.8, label=None)\n",
    "loglog(N[:], PyGerr_surf[:], c=\"k\", marker=\"x\", mfc=\"w\", ms=3, ls=\"\", lw=0.5, label=\"$E_{surf}$\")\n",
    "loglog(N[:], asympt_surf[:], c=\"k\", marker=\"\", mfc=\"w\", ms=3, ls=\":\", lw=0.8, label=None)\n",
    "text(1.6e4, 6e-2,\"1/N\",fontsize=4,rotation=-8)\n",
    "text(2.5e1,3e-6,\"$E_{0}$ = 2e-4 e/$\\epsilon_{0}\\mathrm{\\AA}^{2}$\",fontsize = 5)\n",
    "ylabel('Error', fontsize=10)\n",
    "xlabel('Densidad',fontsize=10)\n",
    "subplots_adjust(left=0.25, bottom=0.25, right=0.96, top=0.96)\n",
    "axis([1e-0,100,0.000001, 1e0])\n",
    "legend(loc='best', fontsize = '6')\n",
    "savefig('Error_2tgd_EsolvEsurf_int_Ef2e-4_k0.125_nanoshaper.pdf')\n",
    "clf()"
   ]
  },
  {
   "cell_type": "code",
   "execution_count": null,
   "metadata": {},
   "outputs": [],
   "source": []
  },
  {
   "cell_type": "code",
   "execution_count": null,
   "metadata": {},
   "outputs": [],
   "source": []
  },
  {
   "cell_type": "code",
   "execution_count": null,
   "metadata": {
    "collapsed": true
   },
   "outputs": [],
   "source": []
  },
  {
   "cell_type": "code",
   "execution_count": 1,
   "metadata": {
    "collapsed": true
   },
   "outputs": [],
   "source": []
  },
  {
   "cell_type": "code",
   "execution_count": 2,
   "metadata": {
    "collapsed": true
   },
   "outputs": [],
   "source": []
  },
  {
   "cell_type": "code",
   "execution_count": null,
   "metadata": {
    "collapsed": true
   },
   "outputs": [],
   "source": []
  }
 ],
 "metadata": {
  "kernelspec": {
   "display_name": "Python 3",
   "language": "python",
   "name": "python3"
  },
  "language_info": {
   "codemirror_mode": {
    "name": "ipython",
    "version": 3
   },
   "file_extension": ".py",
   "mimetype": "text/x-python",
   "name": "python",
   "nbconvert_exporter": "python",
   "pygments_lexer": "ipython3",
   "version": "3.6.2"
  }
 },
 "nbformat": 4,
 "nbformat_minor": 2
}
