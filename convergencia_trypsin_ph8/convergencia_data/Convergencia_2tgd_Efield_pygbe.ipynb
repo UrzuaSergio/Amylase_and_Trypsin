{
 "cells": [
  {
   "cell_type": "markdown",
   "metadata": {},
   "source": [
    "## Estudio de Convergencia: Calculos con PyGBe"
   ]
  },
  {
   "cell_type": "markdown",
   "metadata": {},
   "source": [
    "### Lisozima 1hel sometida a un Campo Electrico Externo"
   ]
  },
  {
   "cell_type": "markdown",
   "metadata": {},
   "source": [
    "#### Parametros PyGBe\n",
    "\n",
    "\tUse GPU                 : 1\n",
    "\tP                       : 6\n",
    "\tthreshold               : 0.50\n",
    "\ttheta                   : 0.50\n",
    "\tNCRIT                   : 500\n",
    "\tCUDA block size         : 128\n",
    "\tGauss points per element: 4\n",
    "\tGauss points near singlr: 19\n",
    "\t1D Gauss points per side: 9\n",
    "\tGMRES tolerance         : 1e-05\n",
    "\tGMRES max iterations    : 1000\n",
    "\tGMRES restart iteration : 200"
   ]
  },
  {
   "cell_type": "markdown",
   "metadata": {},
   "source": [
    "### MSMS: \n",
    "#### Efield = 1e-12 y _k_ = 0.125"
   ]
  },
  {
   "cell_type": "code",
   "execution_count": 8,
   "metadata": {},
   "outputs": [
    {
     "name": "stdout",
     "output_type": "stream",
     "text": [
      "p_solv:  0.982000722965\n",
      "E_solv_extrapolado: -254.128757971 Kcal/mol\n"
     ]
    }
   ],
   "source": [
    "from numpy import *\n",
    "from pylab import *\n",
    "import os\n",
    "\n",
    "#Calculo de Aproximacion Sol. Analitica por medio de Extrapolacion de Richardson:\n",
    "#Esolv = array([-714.3092, -630.0634, -598.2773, -584.9413]) #kcal/mol con campo EF:5.5264e-5 sin trimesh\n",
    "Esolv = array([-267.82944120,-258.3171181,-256.249229,-255.202304])\n",
    "N=array([2,4,8,16])  #N° Elementos\n",
    "\n",
    "r= N[3]/N[2]\n",
    "p = log((Esolv[2] - Esolv[1])/(Esolv[3] - Esolv[2]))/log(r)\n",
    "print(\"p_solv: \",p)\n",
    "fsolvanalitico = Esolv[3] + ((Esolv[3] - Esolv[2])/((r**p) - 1))\n",
    "print('E_solv_extrapolado:',fsolvanalitico,'Kcal/mol')"
   ]
  },
  {
   "cell_type": "code",
   "execution_count": 15,
   "metadata": {},
   "outputs": [
    {
     "name": "stdout",
     "output_type": "stream",
     "text": [
      "[ 5.39123684  1.64812521  0.83440813  0.42244177]\n"
     ]
    }
   ],
   "source": [
    "#Calculo de Errores Relativos en Energia de Solvatacion:\n",
    "PyGerr_solv = abs(Esolv-fsolvanalitico)/abs(fsolvanalitico)\n",
    "print(PyGerr_solv*100)\n",
    "asympt_solv = N[-1]*PyGerr_solv[-1]/N\n",
    "\n",
    "figure(figsize=(3,2), dpi=80)\n",
    "loglog(N, PyGerr_solv, c=\"k\", marker=\"o\", mfc=\"w\", ms=3, ls=\"\", lw=0.5, label=\"$E_{solv}$\")\n",
    "loglog(N, asympt_solv, c=\"k\", marker=\"\", mfc=\"w\", ms=3, ls=\":\", lw=0.8, label=None)\n",
    "text(1.6e4, 6e-2,\"1/N\",fontsize=4,rotation=-8)\n",
    "text(0.5e5,0.5,\"$E_{0}$ = 2.7632e-9 e/$\\epsilon_{0}\\mathrm{\\AA}^{2}$\",fontsize = 5)\n",
    "ylabel('Error Esolv', fontsize=10)\n",
    "xlabel('$N^{\\circ}$ Elements',fontsize=10)\n",
    "subplots_adjust(left=0.25, bottom=0.25, right=0.96, top=0.96)\n",
    "axis([1,100,0.001, 1])\n",
    "legend(loc='lower right', fontsize = '6')\n",
    "savefig('Error_pepm1_Esolv_Ef2.7632e-9_k0.125_msms.pdf')\n",
    "clf()"
   ]
  },
  {
   "cell_type": "code",
   "execution_count": null,
   "metadata": {
    "collapsed": true
   },
   "outputs": [],
   "source": []
  },
  {
   "cell_type": "code",
   "execution_count": null,
   "metadata": {
    "collapsed": true
   },
   "outputs": [],
   "source": []
  },
  {
   "cell_type": "markdown",
   "metadata": {},
   "source": [
    "#### Efield = 1e-12 y _k_ = 0.086"
   ]
  },
  {
   "cell_type": "code",
   "execution_count": 3,
   "metadata": {},
   "outputs": [
    {
     "name": "stdout",
     "output_type": "stream",
     "text": [
      "p_solv:  1.16228574473\n",
      "E_solv_extrapolado: -561.227564945 Kcal/mol\n"
     ]
    }
   ],
   "source": [
    "#Calculo de Aproximacion Sol. Analitica por medio de Extrapolacion de Richardson:\n",
    "Esolv = array([-701.2304, -616.6074, -584.5208, -571.0249]) #kcal/mol con campo EF:5.5264e-5 con trimesh\n",
    "N=array([10328, 20012, 42844, 90260])  #N° Elementos\n",
    "\n",
    "r= N[3]/N[2]\n",
    "p = log((Esolv[2] - Esolv[1])/(Esolv[3] - Esolv[2]))/log(r)\n",
    "print(\"p_solv: \", p)\n",
    "fsolvanalitico = Esolv[3] + ((Esolv[3] - Esolv[2])/((r**p) - 1))\n",
    "print('E_solv_extrapolado:',fsolvanalitico,'Kcal/mol')"
   ]
  },
  {
   "cell_type": "code",
   "execution_count": 4,
   "metadata": {},
   "outputs": [
    {
     "name": "stdout",
     "output_type": "stream",
     "text": [
      "[ 24.94582301   9.86762563   4.15040823   1.74569741]\n"
     ]
    }
   ],
   "source": [
    "#Calculo de Errores Relativos en Energia de Solvatacion:\n",
    "PyGerr_solv = abs(Esolv-fsolvanalitico)/abs(fsolvanalitico)\n",
    "print(PyGerr_solv*100)\n",
    "asympt_solv = N[-1]*PyGerr_solv[-1]/N\n",
    "\n",
    "figure(figsize=(3,2), dpi=80)\n",
    "loglog(N, PyGerr_solv, c=\"k\", marker=\"o\", mfc=\"w\", ms=3, ls=\"\", lw=0.5, label=\"$E_{solv}$\")\n",
    "loglog(N, asympt_solv, c=\"k\", marker=\"\", mfc=\"w\", ms=3, ls=\":\", lw=0.8, label=None)\n",
    "text(1.6e4, 6e-2,\"1/N\",fontsize=4,rotation=-8)\n",
    "text(0.8e5,0.5,\"$E_{0}$ = 1e-12 e/$\\epsilon_{0}\\mathrm{\\AA}^{2}$\",fontsize = 5)\n",
    "ylabel('Error Esolv', fontsize=10)\n",
    "xlabel('$N^{\\circ}$ Elements',fontsize=10)\n",
    "subplots_adjust(left=0.25, bottom=0.25, right=0.96, top=0.96)\n",
    "axis([1000,1000000,0.001, 1])\n",
    "legend(loc='lower right', fontsize = '6')\n",
    "savefig('Error_1hel_Esolv_Ef1e-12_k0.086_nanoshaper.pdf')\n",
    "clf()"
   ]
  },
  {
   "cell_type": "markdown",
   "metadata": {},
   "source": [
    "### Lisozima 1hel cerca de Surf. Cargada C= -0.04 C/m2 sometida a un Campo Electrico Externo"
   ]
  },
  {
   "cell_type": "markdown",
   "metadata": {},
   "source": [
    "#### Parametros PyGBe\n",
    "\n",
    "\tUse GPU                 : 1\n",
    "\tP                       : 4\n",
    "\tthreshold               : 0.50\n",
    "\ttheta                   : 0.50\n",
    "\tNCRIT                   : 500\n",
    "\tCUDA block size         : 128\n",
    "\tGauss points per element: 2\n",
    "\tGauss points near singlr: 19\n",
    "\t1D Gauss points per side: 9\n",
    "\tGMRES tolerance         : 1e-05\n",
    "\tGMRES max iterations    : 1000\n",
    "\tGMRES restart iteration : 200"
   ]
  },
  {
   "cell_type": "markdown",
   "metadata": {},
   "source": [
    "### NanoShaper\n",
    "#### Efield = 0.0 y _k_ = 0.086"
   ]
  },
  {
   "cell_type": "code",
   "execution_count": 1,
   "metadata": {},
   "outputs": [
    {
     "name": "stdout",
     "output_type": "stream",
     "text": [
      "p_solv:  1.22328560873\n",
      "p_surf:  1.8010793894\n",
      "E_solv_analitico: -562.683638385 Kcal/mol\n",
      "E_surf_analitico: 14.6152225806 Kcal/mol\n"
     ]
    }
   ],
   "source": [
    "from numpy import *\n",
    "from pylab import *\n",
    "import os\n",
    "\n",
    "Esolv = array([-702.5513, -617.9361, -585.9047, -572.4428]) #kcal/mol sin campo\n",
    "Esurf = array([14.5629, 14.5854, 14.6069, 14.6129]) #kcal/mol sin campo\n",
    "NN=array([34328, 67952, 138844, 282020])#N° Elementos\n",
    "\n",
    "r= NN[3]/NN[2]\n",
    "r_surf = NN[3]/NN[2]\n",
    "p_solv = log((Esolv[2] - Esolv[1])/(Esolv[3] - Esolv[2]))/log(r)\n",
    "p_surf = log((Esurf[2] - Esurf[1])/(Esurf[3] - Esurf[2]))/log(r_surf)\n",
    "print(\"p_solv: \", p_solv)\n",
    "print(\"p_surf: \", p_surf)\n",
    "\n",
    "fsolvanalitico = Esolv[3] + ((Esolv[3] - Esolv[2])/((r**p_solv) - 1))\n",
    "fsurfanalitico = Esurf[2] + ((Esurf[2] - Esurf[1])/((r**p_surf) - 1))\n",
    "print('E_solv_analitico:',fsolvanalitico,'Kcal/mol')\n",
    "print('E_surf_analitico:',fsurfanalitico,'Kcal/mol')"
   ]
  },
  {
   "cell_type": "code",
   "execution_count": 2,
   "metadata": {},
   "outputs": [
    {
     "name": "stdout",
     "output_type": "stream",
     "text": [
      "[ 24.85724696   9.8194541    4.12684145   1.73439584]\n",
      "[ 0.35800057  0.2040515   0.0569446   0.01589152]\n",
      "[ 0.4039183   0.2040515   0.09986537  0.04916569]\n"
     ]
    }
   ],
   "source": [
    "PyGerr_solv = abs(Esolv-fsolvanalitico)/abs(fsolvanalitico)\n",
    "print(PyGerr_solv*100)\n",
    "PyGerr_surf = abs(Esurf-fsurfanalitico)/abs(fsurfanalitico)\n",
    "print(PyGerr_surf*100)\n",
    "asympt_solv = NN[-1]*PyGerr_solv[-1]/NN\n",
    "asympt_surf = NN[-3]*PyGerr_surf[-3]/NN\n",
    "print(asympt_surf*100)\n",
    "\n",
    "figure(figsize=(3,2), dpi=80)\n",
    "loglog(NN, PyGerr_solv, c='k', marker='o', mfc='w', ms=3, ls='', lw=0.5, label=\"$E_{solv}$\")\n",
    "loglog(NN, asympt_solv, c='k', marker='', mfc='w', ms=3, ls=':', lw=0.8, label=None)\n",
    "loglog(NN, PyGerr_surf, c='k', marker='^', mfc='w', ms=3, ls='', lw=0.5, label=\"$E_{surf}$\")\n",
    "loglog(NN, 100/NN, c='k', marker='', mfc='w', ms=3, ls=':', lw=0.8, label=None)\n",
    "text(1.6e4, 6e-2,\"1/N\",fontsize=4,rotation=-8)\n",
    "text(0.8e5,0.5,\"$E_{0}$ = 1e-12 e/$\\epsilon_{0}\\mathrm{\\AA}^{2}$\",fontsize = 5)\n",
    "ylabel('Error Esolv', fontsize=10)\n",
    "xlabel('$N^{\\circ}$ Elements',fontsize=10)\n",
    "subplots_adjust(left=0.25, bottom=0.25, right=0.96, top=0.96)\n",
    "axis([10000,1000000,0.00001, 1])\n",
    "legend(loc='lower right', fontsize = '6')\n",
    "savefig('Error_1hel-sensor_Esolv_Ef0.0_k0.086_nanoshaper.pdf')\n",
    "clf()"
   ]
  },
  {
   "cell_type": "code",
   "execution_count": null,
   "metadata": {
    "collapsed": true
   },
   "outputs": [],
   "source": []
  },
  {
   "cell_type": "markdown",
   "metadata": {},
   "source": [
    "#### Efield = 5.5264e-5 y _k_ = 0.086"
   ]
  },
  {
   "cell_type": "code",
   "execution_count": 1,
   "metadata": {},
   "outputs": [],
   "source": [
    "#Esolv = array([-722.2449, -637.7406, -605.7249, -592.3012]) #kcal/mol con campo EF:5.5264e-5 #mal hecho move_protein.py\n",
    "#Esurf = array([-18.7826, -18.7741, -18.7551, -18.7511]) #kcal/mol con campo EF:5.5264e-5 #y mal hechas mallas sensor\n",
    "#NN=array([25128, 49012, 102044, 206034])#N° Elementos\n",
    "\n",
    "#Esolv = array([-719.0277, -634.4544, -602.4989, -589.0468])\n",
    "#Esurf = array([-19.4511, -19.4353, -19.4174, -19.4118])\n",
    "#NN=array([34328, 67952, 138844, 282020])\n",
    "\n",
    "#r= NN[3]/NN[2]\n",
    "#r_surf = NN[3]/NN[2]\n",
    "#p_solv = log((Esolv[2] - Esolv[1])/(Esolv[3] - Esolv[2]))/log(r)\n",
    "#p_surf = log((Esurf[2] - Esurf[1])/(Esurf[3] - Esurf[2]))/log(r_surf)\n",
    "#print(\"p_solv: \", p_solv)\n",
    "#print(\"p_surf: \", p_surf)\n",
    "#fsolvanalitico = Esolv[3] + ((Esolv[3] - Esolv[2])/((r**p_solv) - 1))\n",
    "#fsurfanalitico = Esurf[2] + ((Esurf[2] - Esurf[1])/((r**p_surf) - 1))\n",
    "#print('E_solv_analitico:',fsolvanalitico,'Kcal/mol')\n",
    "#print('E_surf_analitico:',fsurfanalitico,'Kcal/mol')"
   ]
  },
  {
   "cell_type": "code",
   "execution_count": 2,
   "metadata": {},
   "outputs": [],
   "source": [
    "#PyGerr_solv = abs(Esolv-fsolvanalitico)/abs(fsolvanalitico)\n",
    "#print(PyGerr_solv*100)\n",
    "#PyGerr_surf = abs(Esurf-fsurfanalitico)/abs(fsurfanalitico)\n",
    "#print(PyGerr_surf*100)\n",
    "#asympt_solv = NN[-1]*PyGerr_solv[-1]/NN\n",
    "#asympt_surf = NN[-2]*PyGerr_surf[-2]/NN\n",
    "\n",
    "#figure(figsize=(3,2), dpi=80)\n",
    "#loglog(NN, PyGerr_solv, c='k', marker='o', mfc='w', ms=3, ls='', lw=0.5, label=\"$E_{solv}$\")\n",
    "#loglog(NN, asympt_solv, c='k', marker='', mfc='w', ms=3, ls=':', lw=0.8, label=None)\n",
    "#loglog(NN, PyGerr_surf, c='k', marker='^', mfc='w', ms=3, ls='', lw=0.5, label=\"$E_{surf}$\")\n",
    "#loglog(NN, asympt_surf, c='k', marker='', mfc='w', ms=3, ls=':', lw=0.8, label=None)\n",
    "#ylabel('error relativo', fontsize=10)\n",
    "#xlabel('N mesh',fontsize=10)\n",
    "#text(1.6e4, 6e-2,\"1/N\",fontsize=4,rotation=-8)\n",
    "#text(0.8e5,0.3,\"$E_{0}$ = 5.5264e-5 e/$\\epsilon_{0}\\mathrm{\\AA}^{2}$\",fontsize = 5)\n",
    "#subplots_adjust(left=0.25, bottom=0.25, right=0.92, top=0.92)\n",
    "#axis([10000,1000000,0.000001, 1])\n",
    "#legend(loc='lower right', fontsize = '6')\n",
    "#savefig('Error_1hel-sensor_Esolv_Ef5.5264e-5_k0.086_nanoshaper.pdf')\n",
    "#clf()"
   ]
  },
  {
   "cell_type": "code",
   "execution_count": null,
   "metadata": {
    "collapsed": true
   },
   "outputs": [],
   "source": []
  }
 ],
 "metadata": {
  "kernelspec": {
   "display_name": "Python 3",
   "language": "python",
   "name": "python3"
  },
  "language_info": {
   "codemirror_mode": {
    "name": "ipython",
    "version": 3
   },
   "file_extension": ".py",
   "mimetype": "text/x-python",
   "name": "python",
   "nbconvert_exporter": "python",
   "pygments_lexer": "ipython3",
   "version": "3.6.2"
  }
 },
 "nbformat": 4,
 "nbformat_minor": 2
}
