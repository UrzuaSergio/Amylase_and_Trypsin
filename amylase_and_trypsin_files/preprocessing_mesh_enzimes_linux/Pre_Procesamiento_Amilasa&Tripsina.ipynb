{
 "cells": [
  {
   "cell_type": "markdown",
   "metadata": {},
   "source": [
    "# Codigo Pre-procesamiento de Fibrinogeno: Parametrización y Mallado."
   ]
  },
  {
   "cell_type": "markdown",
   "metadata": {
    "collapsed": true
   },
   "source": [
    "## I. XYZR para mallador."
   ]
  },
  {
   "cell_type": "markdown",
   "metadata": {},
   "source": [
    "Codigos para transformar archivos pqr de proteinas a archivos xyzr. El archivo xyzr es requerido como input para los diversos malladores, como MSMS o NanoShaper."
   ]
  },
  {
   "cell_type": "code",
   "execution_count": 3,
   "metadata": {},
   "outputs": [],
   "source": [
    "#File: Archivo pqr con informacion de cargas, coordenadas, etc.\n",
    "#File_2:Archivo xyzr del archivo pqr.\n",
    "\n",
    "#1smd: Amylase\n",
    "\n",
    "file=open(\"1smd.pqr\",'r')\n",
    "file_2=open(\"1smd.xyzr\",'w')\n",
    "for line in file:\n",
    "    line_2=line.split()\n",
    "    if line_2[0]==\"ATOM\":\n",
    "        linea = '{0} {1} {2} {3}\\n'.format(line_2[5],line_2[6],line_2[7],line_2[9])\n",
    "        file_2.write(linea)\n",
    "file_2.close()\n",
    "file.close()\n",
    "\n",
    "#2tgd: Trypsin\n",
    "\n",
    "file_3=open(\"2tgd.pqr\",'r')\n",
    "file_4=open(\"2tgd.xyzr\",'w')\n",
    "for line in file_3:\n",
    "    line_2=line.split()\n",
    "    if line_2[0]==\"ATOM\":\n",
    "        linea = '{0} {1} {2} {3}\\n'.format(line_2[5],line_2[6],line_2[7],line_2[9])\n",
    "        file_4.write(linea)\n",
    "file_4.close()\n",
    "file_3.close()"
   ]
  },
  {
   "cell_type": "markdown",
   "metadata": {},
   "source": [
    "## II. Elaboración de Malla del Fibrinogeno con el mallador NanoShaper."
   ]
  },
  {
   "cell_type": "code",
   "execution_count": 1,
   "metadata": {},
   "outputs": [],
   "source": [
    "import numpy\n",
    "import sys\n",
    "import os\n",
    "import glob\n",
    "\n",
    "def Funcion_Meshing(File_config,densidad,xyzr):\n",
    "    os.system('touch '+File_config)\n",
    "    Archivo=open(File_config,'w')\n",
    "    Archivo.write('Grid_scale ='+str(float(densidad))+'\\n')\n",
    "    Archivo.write('Grid_perfil = 90.0'+'\\n')\n",
    "    Archivo.write('XYZR_FileName = '+str(xyzr)+'\\n')\n",
    "    Archivo.write('Build_epsilon_maps = false \\n')\n",
    "    Archivo.write('Build_status_map = false \\n')\n",
    "    Archivo.write('Save_Mesh_MSMS_Format = true \\n')\n",
    "    Archivo.write('Compute_Vertex_Normals = true \\n')\n",
    "    Archivo.write('Surface = ses \\n')  \n",
    "    Archivo.write('Max_ses_patches_per_auxiliary_grid_2d_cell = 1500 \\n') \n",
    "    Archivo.write('Smooth_Mesh = true \\n')\n",
    "    Archivo.write('Skin_Surface_Parameter = 0.45 \\n')\n",
    "    Archivo.write('Cavity_Detection_Filling = false \\n')\n",
    "    Archivo.write('Conditional_Volume_Filling_Value = 11.4 \\n')\n",
    "    Archivo.write('Keep_Water_Shaped_Cavities = false \\n')\n",
    "    Archivo.write('Probe_Radius = 1.4 \\n')\n",
    "    Archivo.write('Accurate_Triangulation = true \\n')\n",
    "    Archivo.write('Triangulation = true \\n')\n",
    "    Archivo.write('Check_duplicated_vertices = true \\n')\n",
    "    Archivo.write('Save_Status_map = false \\n')\n",
    "    Archivo.write('Save_PovRay = false \\n')"
   ]
  },
  {
   "cell_type": "markdown",
   "metadata": {},
   "source": [
    "### Mesh 1smd: Amylase"
   ]
  },
  {
   "cell_type": "code",
   "execution_count": 2,
   "metadata": {},
   "outputs": [
    {
     "name": "stdout",
     "output_type": "stream",
     "text": [
      "Listo\n",
      "Listo\n",
      "Listo\n",
      "Listo\n",
      "Listo\n"
     ]
    }
   ],
   "source": [
    "os.system('mkdir Meshing_1smd/')\n",
    "\n",
    "Funcion_Meshing('Meshing_1smd/Config_1smd_d01',0.55,'1smd.xyzr')\n",
    "Funcion_Meshing('Meshing_1smd/Config_1smd_d02',0.79,'1smd.xyzr')\n",
    "Funcion_Meshing('Meshing_1smd/Config_1smd_d04',1.129,'1smd.xyzr')\n",
    "Funcion_Meshing('Meshing_1smd/Config_1smd_d08',1.61,'1smd.xyzr')\n",
    "\n",
    "os.system('./NanoShaper Meshing_1smd/Config_1smd_d01')\n",
    "os.system('cp triangulatedSurf.face Meshing_1smd/1smd_d01.face')\n",
    "os.system('cp triangulatedSurf.vert Meshing_1smd/1smd_d01.vert')\n",
    "os.system('rm -r  triangulatedSurf.face')\n",
    "os.system('rm -r  triangulatedSurf.vert')\n",
    "print('Listo')\n",
    "\n",
    "os.system('./NanoShaper Meshing_1smd/Config_1smd_d02')\n",
    "os.system('cp triangulatedSurf.face Meshing_1smd/1smd_d02.face')\n",
    "os.system('cp triangulatedSurf.vert Meshing_1smd/1smd_d02.vert')\n",
    "os.system('rm -r  triangulatedSurf.face')\n",
    "os.system('rm -r  triangulatedSurf.vert')\n",
    "print('Listo')\n",
    "\n",
    "os.system('./NanoShaper Meshing_1smd/Config_1smd_d04')\n",
    "os.system('cp triangulatedSurf.face Meshing_1smd/1smd_d04.face')\n",
    "os.system('cp triangulatedSurf.vert Meshing_1smd/1smd_d04.vert')\n",
    "os.system('rm -r  triangulatedSurf.face')\n",
    "os.system('rm -r  triangulatedSurf.vert')\n",
    "print('Listo')\n",
    "\n",
    "os.system('./NanoShaper Meshing_1smd/Config_1smd_d08')\n",
    "os.system('cp triangulatedSurf.face Meshing_1smd/1smd_d08.face')\n",
    "os.system('cp triangulatedSurf.vert Meshing_1smd/1smd_d08.vert')\n",
    "os.system('rm -r  triangulatedSurf.face')\n",
    "os.system('rm -r  triangulatedSurf.vert')\n",
    "print('Listo')\n",
    "\n",
    "\n",
    "os.system('rm -r exposed.xyz')\n",
    "os.system('rm -r exposedIndices.txt')\n",
    "os.system('rm -r stderror.txt')\n",
    "os.system('rm -r triangleAreas.txt')\n",
    "os.system('rm -r Meshing_1smd/Config_1smd_d01')\n",
    "os.system('rm -r Meshing_1smd/Config_1smd_d02')\n",
    "os.system('rm -r Meshing_1smd/Config_1smd_d04')\n",
    "os.system('rm -r Meshing_1smd/Config_1smd_d08')\n",
    "print('Listo')\n",
    "\n",
    "#En cada una de los archivos de malla, antes de ser utilizados en PyGBe se requiere dejar como comentario el numero\n",
    "#de elementos y de vertices que aparece en estos archivos. Basta con agregar # antes del numero respectivo.\n",
    "#Todo este proceso se puede hacer un unico loop. "
   ]
  },
  {
   "cell_type": "markdown",
   "metadata": {},
   "source": [
    "### Mesh 1FZA: Dominio D Fibrinogeno"
   ]
  },
  {
   "cell_type": "code",
   "execution_count": 3,
   "metadata": {},
   "outputs": [
    {
     "name": "stdout",
     "output_type": "stream",
     "text": [
      "Listo\n",
      "Listo\n",
      "Listo\n",
      "Listo\n",
      "Listo\n"
     ]
    }
   ],
   "source": [
    "os.system('mkdir Meshing_2tgd/')\n",
    "\n",
    "Funcion_Meshing('Meshing_2tgd/Config_2tgd_d01',0.55,'2tgd.xyzr')\n",
    "Funcion_Meshing('Meshing_2tgd/Config_2tgd_d02',0.79,'2tgd.xyzr')\n",
    "Funcion_Meshing('Meshing_2tgd/Config_2tgd_d04',1.129,'2tgd.xyzr')\n",
    "Funcion_Meshing('Meshing_2tgd/Config_2tgd_d08',1.61,'2tgd.xyzr')\n",
    "\n",
    "os.system('./NanoShaper Meshing_2tgd/Config_2tgd_d01')\n",
    "os.system('cp triangulatedSurf.face Meshing_2tgd/2tgd_d01.face')\n",
    "os.system('cp triangulatedSurf.vert Meshing_2tgd/2tgd_d01.vert')\n",
    "os.system('rm -r  triangulatedSurf.face')\n",
    "os.system('rm -r  triangulatedSurf.vert')\n",
    "print('Listo')\n",
    "\n",
    "os.system('./NanoShaper Meshing_2tgd/Config_2tgd_d02')\n",
    "os.system('cp triangulatedSurf.face Meshing_2tgd/2tgd_d02.face')\n",
    "os.system('cp triangulatedSurf.vert Meshing_2tgd/2tgd_d02.vert')\n",
    "os.system('rm -r  triangulatedSurf.face')\n",
    "os.system('rm -r  triangulatedSurf.vert')\n",
    "print('Listo')\n",
    "\n",
    "os.system('./NanoShaper Meshing_2tgd/Config_2tgd_d04')\n",
    "os.system('cp triangulatedSurf.face Meshing_2tgd/2tgd_d04.face')\n",
    "os.system('cp triangulatedSurf.vert Meshing_2tgd/2tgd_d04.vert')\n",
    "os.system('rm -r  triangulatedSurf.face')\n",
    "os.system('rm -r  triangulatedSurf.vert')\n",
    "print('Listo')\n",
    "\n",
    "os.system('./NanoShaper Meshing_2tgd/Config_2tgd_d08')\n",
    "os.system('cp triangulatedSurf.face Meshing_2tgd/2tgd_d08.face')\n",
    "os.system('cp triangulatedSurf.vert Meshing_2tgd/2tgd_d08.vert')\n",
    "os.system('rm -r  triangulatedSurf.face')\n",
    "os.system('rm -r  triangulatedSurf.vert')\n",
    "print('Listo')\n",
    "\n",
    "\n",
    "os.system('rm -r exposed.xyz')\n",
    "os.system('rm -r exposedIndices.txt')\n",
    "os.system('rm -r stderror.txt')\n",
    "os.system('rm -r triangleAreas.txt')\n",
    "os.system('rm -r Meshing_2tgd/Config_2tgd_d01')\n",
    "os.system('rm -r Meshing_2tgd/Config_2tgd_d02')\n",
    "os.system('rm -r Meshing_2tgd/Config_2tgd_d04')\n",
    "os.system('rm -r Meshing_2tgd/Config_2tgd_d08')\n",
    "print('Listo')\n",
    "\n",
    "#En cada una de los archivos de malla, antes de ser utilizados en PyGBe se requiere dejar como comentario el numero\n",
    "#de elementos y de vertices que aparece en estos archivos. Basta con agregar # antes del numero respectivo."
   ]
  },
  {
   "cell_type": "code",
   "execution_count": null,
   "metadata": {},
   "outputs": [],
   "source": [
    "#data mesh de 1smd:\n",
    "#faces - vert\n",
    "#d01:14684 - 7384\n",
    "#d02:31080 - 15586\n",
    "#d04:65184 - 32632\n",
    "#d08:133620 - 66850\n",
    "\n",
    "#data mesh de 2tgd:\n",
    "#faces - vert\n",
    "#d01: 7816 - 3908\n",
    "#d02: 16584 - 8294\n",
    "#d04: 34416 - 17206\n",
    "#d08: 71024 - 35512"
   ]
  }
 ],
 "metadata": {
  "kernelspec": {
   "display_name": "Python 3",
   "language": "python",
   "name": "python3"
  },
  "language_info": {
   "codemirror_mode": {
    "name": "ipython",
    "version": 3
   },
   "file_extension": ".py",
   "mimetype": "text/x-python",
   "name": "python",
   "nbconvert_exporter": "python",
   "pygments_lexer": "ipython3",
   "version": "3.6.5"
  }
 },
 "nbformat": 4,
 "nbformat_minor": 2
}
