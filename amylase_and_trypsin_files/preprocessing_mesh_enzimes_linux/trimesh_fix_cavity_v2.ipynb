{
 "cells": [
  {
   "cell_type": "markdown",
   "metadata": {},
   "source": [
    "# Fixing triangular meshes with trimesh\n",
    "\n",
    "Consider: \n",
    "* The function `txttoarray` will only work for txt files inside the folder this notebook is in.\n",
    "* Mesh will be made watertight by filling holes, deleting repeted vertices and faces, and by merging vertices that are close together. This distance can be toggled through the variable `merge_tolerance`."
   ]
  },
  {
   "cell_type": "code",
   "execution_count": 1,
   "metadata": {
    "scrolled": true
   },
   "outputs": [
    {
     "name": "stdout",
     "output_type": "stream",
     "text": [
      "Total time: 2.11 [s]\n"
     ]
    }
   ],
   "source": [
    "%reset -f\n",
    "import time\n",
    "import numpy as np\n",
    "import trimesh\n",
    "\n",
    "\n",
    "def txttoarray(filename):\n",
    "    file = open(filename, \"r\").read().split(\"\\n\")\n",
    "    datos=[]\n",
    "    for i in range(len(file)):\n",
    "        datos.append(file[i].split())\n",
    "    return(datos)\n",
    "\n",
    "######################### #########################\n",
    "######################### #########################\n",
    "\n",
    "toc = time.time()\n",
    "    \n",
    "# Replace \"surf_d02_stern.face\" and \"vert\" with filename (txt extention)\n",
    "face=txttoarray(\"Meshing_1smd/1smd_d08.face\")\n",
    "face=[i for i in face if i!=[]]\n",
    "\n",
    "vert=txttoarray(\"Meshing_1smd/1smd_d08.vert\")\n",
    "vert=[i for i in vert if i!=[]]\n",
    "\n",
    "vert_txt=np.float_(vert) ; vert_norm=vert_txt[:,3:6] ; vert=vert_txt[:,:3]\n",
    "face=np.int_(face); face= face[:,:3]-1\n",
    "\n",
    "######################### #########################\n",
    "######################### #########################\n",
    "    \n",
    "mesh = trimesh.Trimesh(vertices=vert,faces=face,vertex_normals=vert_norm,validate=True,process=True)\n",
    "mesh.fill_holes()\n",
    "mesh.process()\n",
    "\n",
    "while not mesh.is_watertight:\n",
    "    merge_tolerance = 0.005\n",
    "    needy_faces     = trimesh.repair.broken_faces(mesh)\n",
    "    for vert_nf in mesh.faces[needy_faces]:\n",
    "        for nf in vert_nf:\n",
    "            for c,check in enumerate(np.linalg.norm(mesh.vertices[vert_nf]-mesh.vertices[nf],axis=1)):\n",
    "                if (check<merge_tolerance) & (0<check):\n",
    "                    mesh.vertices[nf]=mesh.vertices[vert_nf[c]]\n",
    "                    \n",
    "mesh.fill_holes()\n",
    "mesh.process()\n",
    "            \n",
    "                \n",
    "tic = time.time()\n",
    "print(\"Total time:\",round(tic-toc,3),\"[s]\")"
   ]
  },
  {
   "cell_type": "code",
   "execution_count": 2,
   "metadata": {},
   "outputs": [
    {
     "name": "stdout",
     "output_type": "stream",
     "text": [
      "<trimesh.Trimesh(vertices.shape=(66850, 3), faces.shape=(133620, 3))>\n"
     ]
    }
   ],
   "source": [
    "print(mesh)"
   ]
  },
  {
   "cell_type": "code",
   "execution_count": 3,
   "metadata": {},
   "outputs": [
    {
     "name": "stdout",
     "output_type": "stream",
     "text": [
      "<trimesh.Trimesh(vertices.shape=(66850, 3), faces.shape=(133620, 3))>\n",
      "[<trimesh.Trimesh(vertices.shape=(62500, 3), faces.shape=(125016, 3))>\n",
      " <trimesh.Trimesh(vertices.shape=(756, 3), faces.shape=(1508, 3))>\n",
      " <trimesh.Trimesh(vertices.shape=(352, 3), faces.shape=(700, 3))>\n",
      " <trimesh.Trimesh(vertices.shape=(204, 3), faces.shape=(404, 3))>\n",
      " <trimesh.Trimesh(vertices.shape=(142, 3), faces.shape=(280, 3))>\n",
      " <trimesh.Trimesh(vertices.shape=(264, 3), faces.shape=(524, 3))>\n",
      " <trimesh.Trimesh(vertices.shape=(112, 3), faces.shape=(220, 3))>\n",
      " <trimesh.Trimesh(vertices.shape=(150, 3), faces.shape=(296, 3))>\n",
      " <trimesh.Trimesh(vertices.shape=(184, 3), faces.shape=(364, 3))>\n",
      " <trimesh.Trimesh(vertices.shape=(124, 3), faces.shape=(244, 3))>\n",
      " <trimesh.Trimesh(vertices.shape=(136, 3), faces.shape=(268, 3))>\n",
      " <trimesh.Trimesh(vertices.shape=(104, 3), faces.shape=(204, 3))>\n",
      " <trimesh.Trimesh(vertices.shape=(92, 3), faces.shape=(180, 3))>\n",
      " <trimesh.Trimesh(vertices.shape=(280, 3), faces.shape=(556, 3))>\n",
      " <trimesh.Trimesh(vertices.shape=(134, 3), faces.shape=(264, 3))>\n",
      " <trimesh.Trimesh(vertices.shape=(132, 3), faces.shape=(260, 3))>\n",
      " <trimesh.Trimesh(vertices.shape=(130, 3), faces.shape=(256, 3))>\n",
      " <trimesh.Trimesh(vertices.shape=(174, 3), faces.shape=(344, 3))>\n",
      " <trimesh.Trimesh(vertices.shape=(152, 3), faces.shape=(300, 3))>\n",
      " <trimesh.Trimesh(vertices.shape=(132, 3), faces.shape=(260, 3))>\n",
      " <trimesh.Trimesh(vertices.shape=(128, 3), faces.shape=(252, 3))>\n",
      " <trimesh.Trimesh(vertices.shape=(150, 3), faces.shape=(296, 3))>\n",
      " <trimesh.Trimesh(vertices.shape=(90, 3), faces.shape=(176, 3))>\n",
      " <trimesh.Trimesh(vertices.shape=(102, 3), faces.shape=(200, 3))>\n",
      " <trimesh.Trimesh(vertices.shape=(126, 3), faces.shape=(248, 3))>]\n",
      "len de mesh_split:  25\n"
     ]
    }
   ],
   "source": [
    "mesh_split = mesh.split()\n",
    "print(mesh)\n",
    "print(mesh_split)\n",
    "print(\"len de mesh_split: \",len(mesh_split))"
   ]
  },
  {
   "cell_type": "code",
   "execution_count": 4,
   "metadata": {},
   "outputs": [
    {
     "name": "stdout",
     "output_type": "stream",
     "text": [
      "<trimesh.Trimesh(vertices.shape=(126916, 3), faces.shape=(253844, 3))>\n"
     ]
    }
   ],
   "source": [
    "mesh_ses = mesh_split[0]\n",
    "print(mesh_ses)"
   ]
  },
  {
   "cell_type": "code",
   "execution_count": 5,
   "metadata": {},
   "outputs": [
    {
     "name": "stderr",
     "output_type": "stream",
     "text": [
      "IOPub data rate exceeded.\n",
      "The notebook server will temporarily stop sending output\n",
      "to the client in order to avoid crashing it.\n",
      "To change this limit, set the config variable\n",
      "`--NotebookApp.iopub_data_rate_limit`.\n"
     ]
    }
   ],
   "source": [
    "mesh_ses.show()"
   ]
  },
  {
   "cell_type": "code",
   "execution_count": 6,
   "metadata": {},
   "outputs": [
    {
     "name": "stdout",
     "output_type": "stream",
     "text": [
      "[[  2072    435   2173]\n",
      " [ 86005    888 110095]\n",
      " [ 26228  86005 110095]\n",
      " ..., \n",
      " [  2807  87848  87289]\n",
      " [ 77387  28641  87866]\n",
      " [ 48195  63697  87858]] [[  0.     46.148  43.915]\n",
      " [ 30.72   92.432  21.205]\n",
      " [ 30.72   50.141  32.555]\n",
      " ..., \n",
      " [ 20.963  84.577  19.194]\n",
      " [ 20.963  75.31    8.883]\n",
      " [ 20.963  72.699   9.037]]\n"
     ]
    }
   ],
   "source": [
    "mesh_ses_faces = mesh_ses.faces + 1\n",
    "mesh_ses_vert = mesh_ses.vertices\n",
    "print(mesh_ses_faces, mesh_ses_vert)"
   ]
  },
  {
   "cell_type": "code",
   "execution_count": 7,
   "metadata": {
    "collapsed": true
   },
   "outputs": [],
   "source": [
    "np.savetxt(\"Meshing_1smd/1smd_d16_split.face\",mesh_ses_faces,fmt=\"%i\")\n",
    "np.savetxt(\"Meshing_1smd/1smd_d16_split.vert\",mesh_ses_vert)"
   ]
  },
  {
   "cell_type": "code",
   "execution_count": 8,
   "metadata": {
    "collapsed": true
   },
   "outputs": [],
   "source": [
    "#mesh: face - vert 1a0j\n",
    "#d01: 7384 - 3690\n",
    "#d02: 15684 - 7842\n",
    "#d04: 32524 - 16260\n",
    "#d08: 66580 - 33286\n",
    "#d16: 135644 - 67816\n",
    "\n",
    "#mesh: face - vert 1smd\n",
    "#d01: 13896 - 6944\n",
    "#d02: 31080 - 14650\n",
    "#d04: 61240 - 30616\n",
    "#d08: 125016 - 62500\n",
    "#d16: 253844 - 135878"
   ]
  },
  {
   "cell_type": "code",
   "execution_count": null,
   "metadata": {
    "collapsed": true
   },
   "outputs": [],
   "source": []
  }
 ],
 "metadata": {
  "kernelspec": {
   "display_name": "Python 3",
   "language": "python",
   "name": "python3"
  },
  "language_info": {
   "codemirror_mode": {
    "name": "ipython",
    "version": 3
   },
   "file_extension": ".py",
   "mimetype": "text/x-python",
   "name": "python",
   "nbconvert_exporter": "python",
   "pygments_lexer": "ipython3",
   "version": "3.6.2"
  }
 },
 "nbformat": 4,
 "nbformat_minor": 2
}
