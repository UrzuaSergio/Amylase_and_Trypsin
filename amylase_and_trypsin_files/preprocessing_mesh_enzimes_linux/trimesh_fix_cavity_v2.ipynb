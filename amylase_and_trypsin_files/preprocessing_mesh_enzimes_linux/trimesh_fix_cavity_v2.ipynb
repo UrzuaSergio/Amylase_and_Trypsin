{
 "cells": [
  {
   "cell_type": "markdown",
   "metadata": {},
   "source": [
    "# Fixing triangular meshes with trimesh\n",
    "\n",
    "Consider: \n",
    "* The function `txttoarray` will only work for txt files inside the folder this notebook is in.\n",
    "* Mesh will be made watertight by filling holes, deleting repeted vertices and faces, and by merging vertices that are close together. This distance can be toggled through the variable `merge_tolerance`."
   ]
  },
  {
   "cell_type": "code",
   "execution_count": 1,
   "metadata": {
    "scrolled": true
   },
   "outputs": [
    {
     "name": "stdout",
     "output_type": "stream",
     "text": [
      "Total time: 1.343 [s]\n"
     ]
    }
   ],
   "source": [
    "%reset -f\n",
    "import time\n",
    "import numpy as np\n",
    "import trimesh\n",
    "\n",
    "\n",
    "def txttoarray(filename):\n",
    "    file = open(filename, \"r\").read().split(\"\\n\")\n",
    "    datos=[]\n",
    "    for i in range(len(file)):\n",
    "        datos.append(file[i].split())\n",
    "    return(datos)\n",
    "\n",
    "######################### #########################\n",
    "######################### #########################\n",
    "\n",
    "toc = time.time()\n",
    "    \n",
    "# Replace \"surf_d02_stern.face\" and \"vert\" with filename (txt extention)\n",
    "face=txttoarray(\"Meshing_1fni/1fni_d16.face\")\n",
    "face=[i for i in face if i!=[]]\n",
    "\n",
    "vert=txttoarray(\"Meshing_1fni/1fni_d16.vert\")\n",
    "vert=[i for i in vert if i!=[]]\n",
    "\n",
    "vert_txt=np.float_(vert) ; vert_norm=vert_txt[:,3:6] ; vert=vert_txt[:,:3]\n",
    "face=np.int_(face); face= face[:,:3]-1\n",
    "\n",
    "######################### #########################\n",
    "######################### #########################\n",
    "    \n",
    "mesh = trimesh.Trimesh(vertices=vert,faces=face,vertex_normals=vert_norm,validate=True,process=True)\n",
    "mesh.fill_holes()\n",
    "mesh.process()\n",
    "\n",
    "while not mesh.is_watertight:\n",
    "    merge_tolerance = 0.005\n",
    "    needy_faces     = trimesh.repair.broken_faces(mesh)\n",
    "    for vert_nf in mesh.faces[needy_faces]:\n",
    "        for nf in vert_nf:\n",
    "            for c,check in enumerate(np.linalg.norm(mesh.vertices[vert_nf]-mesh.vertices[nf],axis=1)):\n",
    "                if (check<merge_tolerance) & (0<check):\n",
    "                    mesh.vertices[nf]=mesh.vertices[vert_nf[c]]\n",
    "                    \n",
    "mesh.fill_holes()\n",
    "mesh.process()\n",
    "            \n",
    "                \n",
    "tic = time.time()\n",
    "print(\"Total time:\",round(tic-toc,3),\"[s]\")"
   ]
  },
  {
   "cell_type": "code",
   "execution_count": 2,
   "metadata": {},
   "outputs": [
    {
     "name": "stdout",
     "output_type": "stream",
     "text": [
      "<trimesh.Trimesh(vertices.shape=(68992, 3), faces.shape=(137960, 3))>\n"
     ]
    }
   ],
   "source": [
    "print(mesh)"
   ]
  },
  {
   "cell_type": "code",
   "execution_count": 3,
   "metadata": {},
   "outputs": [
    {
     "name": "stdout",
     "output_type": "stream",
     "text": [
      "<trimesh.Trimesh(vertices.shape=(68992, 3), faces.shape=(137960, 3))>\n",
      "[<trimesh.Trimesh(vertices.shape=(64818, 3), faces.shape=(129636, 3))>\n",
      " <trimesh.Trimesh(vertices.shape=(398, 3), faces.shape=(792, 3))>\n",
      " <trimesh.Trimesh(vertices.shape=(1552, 3), faces.shape=(3100, 3))>\n",
      " <trimesh.Trimesh(vertices.shape=(652, 3), faces.shape=(1300, 3))>\n",
      " <trimesh.Trimesh(vertices.shape=(352, 3), faces.shape=(700, 3))>\n",
      " <trimesh.Trimesh(vertices.shape=(200, 3), faces.shape=(396, 3))>\n",
      " <trimesh.Trimesh(vertices.shape=(1020, 3), faces.shape=(2036, 3))>]\n",
      "len de mesh_split:  7\n"
     ]
    }
   ],
   "source": [
    "mesh_split = mesh.split()\n",
    "print(mesh)\n",
    "print(mesh_split)\n",
    "print(\"len de mesh_split: \",len(mesh_split))"
   ]
  },
  {
   "cell_type": "code",
   "execution_count": 4,
   "metadata": {},
   "outputs": [
    {
     "name": "stdout",
     "output_type": "stream",
     "text": [
      "<trimesh.Trimesh(vertices.shape=(64818, 3), faces.shape=(129636, 3))>\n"
     ]
    }
   ],
   "source": [
    "mesh_ses = mesh_split[0]\n",
    "print(mesh_ses)"
   ]
  },
  {
   "cell_type": "code",
   "execution_count": 5,
   "metadata": {
    "scrolled": false
   },
   "outputs": [
    {
     "name": "stderr",
     "output_type": "stream",
     "text": [
      "IOPub data rate exceeded.\n",
      "The notebook server will temporarily stop sending output\n",
      "to the client in order to avoid crashing it.\n",
      "To change this limit, set the config variable\n",
      "`--NotebookApp.iopub_data_rate_limit`.\n"
     ]
    }
   ],
   "source": [
    "mesh_ses.show()"
   ]
  },
  {
   "cell_type": "code",
   "execution_count": 6,
   "metadata": {},
   "outputs": [
    {
     "name": "stdout",
     "output_type": "stream",
     "text": [
      "[[ 1031  1020   805]\n",
      " [51062 55493 41147]\n",
      " [47362 55493 49088]\n",
      " ..., \n",
      " [44020  2104 24282]\n",
      " [44020  5370  2104]\n",
      " [44019 36234 22343]] [[ 20.48   24.399  -4.827]\n",
      " [ 51.2    23.432   2.53 ]\n",
      " [ 51.2    36.861  14.336]\n",
      " ..., \n",
      " [ 20.963  38.645  10.732]\n",
      " [ 20.963  33.427  16.364]\n",
      " [ 31.203  31.316 -16.19 ]]\n"
     ]
    }
   ],
   "source": [
    "mesh_ses_faces = mesh_ses.faces + 1\n",
    "mesh_ses_vert = mesh_ses.vertices\n",
    "print(mesh_ses_faces, mesh_ses_vert)"
   ]
  },
  {
   "cell_type": "code",
   "execution_count": 7,
   "metadata": {
    "collapsed": true
   },
   "outputs": [],
   "source": [
    "np.savetxt(\"Meshing_1fni/1fni_split/1fni_d16_split.face\",mesh_ses_faces,fmt=\"%i\")\n",
    "np.savetxt(\"Meshing_1fni/1fni_split/1fni_d16_split.vert\",mesh_ses_vert)"
   ]
  },
  {
   "cell_type": "code",
   "execution_count": 8,
   "metadata": {
    "collapsed": true
   },
   "outputs": [],
   "source": [
    "#mesh: face - vert 1a0j\n",
    "#d01: 7384 - 3690\n",
    "#d02: 15684 - 7842\n",
    "#d04: 32524 - 16260\n",
    "#d08: 66580 - 33286\n",
    "#d16: 135644 - 67816\n",
    "\n",
    "#mesh: face - vert 1smd\n",
    "#d01: 13896 - 6944\n",
    "#d02: 31080 - 14650\n",
    "#d04: 61240 - 30616\n",
    "#d08: 125016 - 62500\n",
    "#d16: 253844 - 135878\n",
    "\n",
    "#mesh: face - vert 1fni\n",
    "#d01: 7024 - 3514\n",
    "#d02: 15052 - 7528\n",
    "#d04: 30904 - 15454\n",
    "#d08: 63756 - 31880\n",
    "#d16: 129636 - 64818"
   ]
  },
  {
   "cell_type": "code",
   "execution_count": null,
   "metadata": {
    "collapsed": true
   },
   "outputs": [],
   "source": []
  }
 ],
 "metadata": {
  "kernelspec": {
   "display_name": "Python 3",
   "language": "python",
   "name": "python3"
  },
  "language_info": {
   "codemirror_mode": {
    "name": "ipython",
    "version": 3
   },
   "file_extension": ".py",
   "mimetype": "text/x-python",
   "name": "python",
   "nbconvert_exporter": "python",
   "pygments_lexer": "ipython3",
   "version": "3.6.2"
  }
 },
 "nbformat": 4,
 "nbformat_minor": 2
}
