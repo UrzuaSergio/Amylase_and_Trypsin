{
 "cells": [
  {
   "cell_type": "code",
   "execution_count": 1,
   "metadata": {
    "collapsed": true
   },
   "outputs": [],
   "source": [
    "import numpy"
   ]
  },
  {
   "cell_type": "code",
   "execution_count": 2,
   "metadata": {},
   "outputs": [
    {
     "name": "stdout",
     "output_type": "stream",
     "text": [
      "3.9013732833957553e-05\n"
     ]
    }
   ],
   "source": [
    "#MALLA SENSOR [x,y,z] = 100x100x10 \n",
    "#Densidad:\n",
    "D01 = 24140\n",
    "D02 = 48000\n",
    "D04 = 96560\n",
    "D08 = 192000\n",
    "D16 = 383748\n",
    "\n",
    "Sigma0 = -0.05\n",
    "dphidn = - (Sigma0*((1e-10)**2))/(80*1.602e-19)\n",
    "print(dphidn)"
   ]
  },
  {
   "cell_type": "code",
   "execution_count": 3,
   "metadata": {
    "collapsed": true
   },
   "outputs": [],
   "source": [
    "#GENERAR ARCHIVO PHI0 densidad D01:\n",
    "carga='4.000000000000000e-05'\n",
    "file_phi0=open('sensor_d01_100x100x10_+4e-5+4e-5+4e-5+4e-5+4e-5+4e-5.phi0','w')\n",
    "for i in range(int(float(D01))):\n",
    "    linea='{0}\\n'.format(carga)\n",
    "    file_phi0.write(linea)\n",
    "file_phi0.close()"
   ]
  },
  {
   "cell_type": "code",
   "execution_count": 4,
   "metadata": {
    "collapsed": true
   },
   "outputs": [],
   "source": [
    "#GENERAR ARCHIVO PHI0 densidad D02:\n",
    "carga='4.000000000000000e-5'\n",
    "file_phi0=open('sensor_d02_100x100x10_+4e-5+4e-5+4e-5+4e-5+4e-5+4e-5.phi0','w')\n",
    "for i in range(int(float(D02))):\n",
    "    linea='{0}\\n'.format(carga)\n",
    "    file_phi0.write(linea)\n",
    "file_phi0.close()"
   ]
  },
  {
   "cell_type": "code",
   "execution_count": 5,
   "metadata": {
    "collapsed": true
   },
   "outputs": [],
   "source": [
    "#GENERAR ARCHIVO PHI0 densidad D04:\n",
    "carga='4.000000000000000e-4'\n",
    "file_phi0=open('sensor_d04_100x100_+4e-5+4e-5+4e-5+4e-5+4e-5+4e-5.phi0','w')\n",
    "for i in range(int(float(D04))):\n",
    "    linea='{0}\\n'.format(carga)\n",
    "    file_phi0.write(linea)\n",
    "file_phi0.close()"
   ]
  },
  {
   "cell_type": "code",
   "execution_count": 6,
   "metadata": {
    "collapsed": true
   },
   "outputs": [],
   "source": [
    "#GENERAR ARCHIVO PHI0 densidad D08:\n",
    "carga='4.000000000000000e-4'\n",
    "file_phi0=open('sensor_d08_100x100x10_+4e-5+4e-5+4e-5+4e-5+4e-5+4e-5.phi0','w')\n",
    "for i in range(int(float(D08))):\n",
    "    linea='{0}\\n'.format(carga)\n",
    "    file_phi0.write(linea)\n",
    "file_phi0.close()"
   ]
  },
  {
   "cell_type": "code",
   "execution_count": 7,
   "metadata": {
    "collapsed": true
   },
   "outputs": [],
   "source": [
    "#GENERAR ARCHIVO PHI0 densidad D16:\n",
    "carga='4.000000000000000e-4'\n",
    "file_phi0=open('sensor_d16_100x100x10_+4e-5+4e-5+4e-5+4e-5+4e-5+4e-5.phi0','w')\n",
    "for i in range(int(float(D16))):\n",
    "    linea='{0}\\n'.format(carga)\n",
    "    file_phi0.write(linea)\n",
    "file_phi0.close()"
   ]
  },
  {
   "cell_type": "code",
   "execution_count": null,
   "metadata": {
    "collapsed": true
   },
   "outputs": [],
   "source": []
  }
 ],
 "metadata": {
  "kernelspec": {
   "display_name": "Python 3",
   "language": "python",
   "name": "python3"
  },
  "language_info": {
   "codemirror_mode": {
    "name": "ipython",
    "version": 3
   },
   "file_extension": ".py",
   "mimetype": "text/x-python",
   "name": "python",
   "nbconvert_exporter": "python",
   "pygments_lexer": "ipython3",
   "version": "3.6.2"
  }
 },
 "nbformat": 4,
 "nbformat_minor": 2
}
