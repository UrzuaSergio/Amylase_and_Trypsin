{
 "cells": [
  {
   "cell_type": "code",
   "execution_count": 1,
   "metadata": {
    "collapsed": true
   },
   "outputs": [],
   "source": [
    "import numpy as np\n",
    "import sys\n",
    "import os\n",
    "import glob\n",
    "\n",
    "#definicion de funcion para generar bash\n",
    "def Funcion_bash_file(file_bash,folder,folder_protsensor,pqr_folder,mesh_folder,tilt_angle_begin,tilt_angle_end,h,p,output_name,Efield):\n",
    "    #file_bash: directorio de archivos bash\n",
    "    #folder: carpeta principal donde estan todos los archivos\n",
    "    \n",
    "    os.system('touch '+file_bash)\n",
    "    Archivo=open(file_bash,'w')\n",
    "    Archivo.write(\n",
    "    '#!/bin/bash \\n'\n",
    "    ' \\n'\n",
    "    '#SBATCH -p gpuk \\n'\n",
    "    '#SBATCH --gres=gpu:1 \\n'\n",
    "    '#SBATCH -J '+output_name+'_'+str(int(tilt_angle_begin))+'-'+str(int(tilt_angle_end))+'_pH8_EF'+Efield+' \\n'\n",
    "    '#SBATCH -o '+output_name+'_'+str(int(tilt_angle_begin))+'-'+str(int(tilt_angle_end))+'_pH8_EF'+Efield+'-%j.out \\n'\n",
    "    '#SBATCH -e '+output_name+'_'+str(int(tilt_angle_begin))+'-'+str(int(tilt_angle_end))+'_pH8_EF'+Efield+'-%j.err \\n'\n",
    "    '#SBATCH --mem=2G \\n'\n",
    "    '#SBATCH --time=55:00:00 \\n'\n",
    "    '#SBATCH --mail-user=sergio.urzua.13@sansano.usm.cl \\n'\n",
    "    '#SBATCH --mail-type=BEGIN,END,FAIL \\n'\n",
    "    ' \\n'\n",
    "    'use cuda10 \\n'\n",
    "    'use anaconda3 \\n'\n",
    "    ' \\n'\n",
    "    'export PYTHONPATH=/user/s/surzua/PyCuda/pycuda/lib/python \\n'\n",
    "    'cd ../../'+folder+'/ \\n'\n",
    "    ' \\n'\n",
    "    'echo \"Simulación que contempla las siguientes Orientaciones:\" \\n'\n",
    "    'echo \"Tilt begin: '+str(int(tilt_angle_begin))+'° - Tilt_end: '+str(int(tilt_angle_end))+'° - Ntilt: '+str(int(p))+' -- Rot begin: 0° - Rot end: 360° - Nrot: 36\" \\n'\n",
    "    'echo \"....................................................................................\" \\n'\n",
    "    'echo \"Proteina-Superficie: Beta-Tripsina porcino - Surf Cargada -0.04 C/m^2.\" \\n'\n",
    "    'echo \"Separación: '+str(h)+ ' Angstrom\" \\n'\n",
    "    ' \\n'\n",
    "    'python generador_config_file.py '+folder_protsensor+' '+pqr_folder[(len(folder_protsensor) +1):]+' '+mesh_folder[(len(folder_protsensor) +1):]+' '+str(int(tilt_angle_begin))+' '+str(int(tilt_angle_end))+' '+str(h)+' \\n'\n",
    "    ' \\n'\n",
    "    'echo \"Se ha Creado Config File Auxiliar\" \\n'\n",
    "    'echo \"Comenzo Ejecucion de PyGBe para Caso Proteina-Superficie Interactuando\" \\n'\n",
    "    'echo \"%%%%%%%% Simulando %%%%%%%%\" \\n'\n",
    "    ' \\n'\n",
    "    'python conformation_1hel.py '+folder_protsensor+' '+ pqr_folder +' '+ mesh_folder + ' '+str(int(tilt_angle_begin))+' '+str(int(tilt_angle_end))+' '+str(int(p))+' '+str(h)+' '+output_name+'_'+str(int(tilt_angle_begin))+'-'+str(int(tilt_angle_end))+'-'+str(h)+'_EF'+Efield+' \\n'\n",
    "    ' \\n'\n",
    "    'echo \"Termino Ejecucion de PyGBe para Caso Proteina-Superficie Interactuando\" \\n')\n",
    "    Archivo.close()\n",
    "    \n"
   ]
  },
  {
   "cell_type": "code",
   "execution_count": 2,
   "metadata": {},
   "outputs": [
    {
     "name": "stdout",
     "output_type": "stream",
     "text": [
      "ingrese nombre de carpeta principal:\n",
      "betatrypsin_pygbe_pH8\n",
      "ingrese directorio de carpeta: protein-sensor:\n",
      "1fni_sensor\n",
      "ingrese directorio de archivo pqr\n",
      "1fni_sensor/1fni\n",
      "ingrese directorio de archivo mesh\n",
      "1fni_sensor/geometry/1fni_d08_split\n",
      "ingrese nombre de archivo output de la forma: pdb-sensor\n",
      "1fni-sensor\n",
      "ingrese valor entero de distancia entre proteina y sensor en Angstrom:\n",
      "2\n"
     ]
    }
   ],
   "source": [
    "print(\"ingrese nombre de carpeta principal:\")\n",
    "folder = input() #Lysozyme_Sensor_EF5.5264e-5_pH5 --- trypsin_pygbe_pH8\n",
    "print(\"ingrese directorio de carpeta: protein-sensor:\")\n",
    "folder_protsensor = input() #1hel_sensor --- 2tgd_sensor\n",
    "print(\"ingrese directorio de archivo pqr\")\n",
    "pqr_folder = input() #1hel_sensor/1hel_parse_ph5 --- 2tgd_sensor/2tgd\n",
    "print(\"ingrese directorio de archivo mesh\")\n",
    "mesh_folder = input() #1hel_sensor/mesh/1hel_parse_ph5_d16_split --- 2tgd_sensor/geometry/2tgd_d08\n",
    "print(\"ingrese nombre de archivo output de la forma: pdb-sensor\")\n",
    "output_name = input() #1hel-sensor --- 2tgd-sensor\n",
    "print(\"ingrese valor entero de distancia entre proteina y sensor en Angstrom:\")\n",
    "h = input() #2"
   ]
  },
  {
   "cell_type": "code",
   "execution_count": 9,
   "metadata": {},
   "outputs": [
    {
     "name": "stdout",
     "output_type": "stream",
     "text": [
      "ingrese intensidad de campo electrico\n",
      "-5.5264e-5\n"
     ]
    }
   ],
   "source": [
    "print(\"ingrese intensidad de campo electrico\")\n",
    "Efield = input() #5.5264e-5 --- 1e-12"
   ]
  },
  {
   "cell_type": "code",
   "execution_count": 10,
   "metadata": {},
   "outputs": [
    {
     "name": "stdout",
     "output_type": "stream",
     "text": [
      "[   0.    4.    8.   12.   16.   20.   24.   28.   32.   36.   40.   44.\n",
      "   48.   52.   56.   60.   64.   68.   72.   76.   80.   84.   88.   92.\n",
      "   96.  100.  104.  108.  112.  116.  120.  124.  128.  132.  136.  140.\n",
      "  144.  148.  152.  156.  160.  164.  168.  172.  176.  180.]\n"
     ]
    }
   ],
   "source": [
    "til_min = float(0) #Angulo inicial Tilt\n",
    "til_max = float(180) #Angulo Final Tilt\n",
    "til_N = int(46) #Numero de Angulos para el paso deseado\n",
    "til_angles_aux = np.linspace(til_min, til_max, num=til_N)\n",
    "print(til_angles_aux)"
   ]
  },
  {
   "cell_type": "code",
   "execution_count": 11,
   "metadata": {},
   "outputs": [
    {
     "name": "stdout",
     "output_type": "stream",
     "text": [
      "Archivo N°1 Creado para Campo: -5.5264e-5\n",
      "Archivo N°2 Creado para Campo: -5.5264e-5\n",
      "Archivo N°3 Creado para Campo: -5.5264e-5\n",
      "Archivo N°4 Creado para Campo: -5.5264e-5\n",
      "Archivo N°5 Creado para Campo: -5.5264e-5\n",
      "Archivo N°6 Creado para Campo: -5.5264e-5\n",
      "Archivo N°7 Creado para Campo: -5.5264e-5\n",
      "Archivo N°8 Creado para Campo: -5.5264e-5\n",
      "Archivo N°9 Creado para Campo: -5.5264e-5\n"
     ]
    }
   ],
   "source": [
    "os.system('mkdir code_bash/')\n",
    "#A partir de eso, definir rango de angulos para trabajar en paralelo\n",
    "h = 2 #distancia proteina-superficie\n",
    "tilt_angle_begin = [0.,24.,44.,64.,84.,104.,124.,144.,164.] #arrreglo con angulos inicales de cada corrida\n",
    "tilt_angle_end = [20.,40.,60.,80.,100.,120.,140.,160.,180] #arreglo con angulos finales de cada corrida\n",
    "#Ahora, Nuemro de angulos para cada corrida (necesario mantener paso definido anteriormente)\n",
    "p = np.zeros(len(tilt_angle_begin))\n",
    "for i in range(len(tilt_angle_begin)):\n",
    "    p_begin = np.where(til_angles_aux == tilt_angle_begin[i])[0][0]\n",
    "    p_end = np.where(til_angles_aux == tilt_angle_end[i])[0][0]\n",
    "    p[i] = len(til_angles_aux[p_begin:p_end])+1\n",
    "\n",
    "for j in range(len(tilt_angle_begin)):\n",
    "    Funcion_bash_file('code_bash/code_conformation_'+output_name+'_angle_'+str(int(tilt_angle_begin[j]))+'-'+str(int(tilt_angle_end[j]))+'_EF'+Efield+'.sh',folder,folder_protsensor,pqr_folder,mesh_folder,tilt_angle_begin[j],tilt_angle_end[j],h,p[j],output_name,Efield)\n",
    "    print(\"Archivo N°\"+str(j+1)+\" Creado para Campo: \"+Efield)"
   ]
  },
  {
   "cell_type": "code",
   "execution_count": null,
   "metadata": {
    "collapsed": true
   },
   "outputs": [],
   "source": []
  },
  {
   "cell_type": "code",
   "execution_count": null,
   "metadata": {
    "collapsed": true
   },
   "outputs": [],
   "source": []
  },
  {
   "cell_type": "code",
   "execution_count": null,
   "metadata": {
    "collapsed": true
   },
   "outputs": [],
   "source": []
  }
 ],
 "metadata": {
  "kernelspec": {
   "display_name": "Python 3",
   "language": "python",
   "name": "python3"
  },
  "language_info": {
   "codemirror_mode": {
    "name": "ipython",
    "version": 3
   },
   "file_extension": ".py",
   "mimetype": "text/x-python",
   "name": "python",
   "nbconvert_exporter": "python",
   "pygments_lexer": "ipython3",
   "version": "3.6.2"
  }
 },
 "nbformat": 4,
 "nbformat_minor": 2
}
